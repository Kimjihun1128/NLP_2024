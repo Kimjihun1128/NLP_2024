{
  "nbformat": 4,
  "nbformat_minor": 0,
  "metadata": {
    "colab": {
      "provenance": [],
      "include_colab_link": true
    },
    "kernelspec": {
      "name": "python3",
      "display_name": "Python 3"
    },
    "language_info": {
      "name": "python"
    }
  },
  "cells": [
    {
      "cell_type": "markdown",
      "metadata": {
        "id": "view-in-github",
        "colab_type": "text"
      },
      "source": [
        "<a href=\"https://colab.research.google.com/github/Kimjihun1128/NLP_2024/blob/main/3/14%20%EC%88%98%EC%97%85.ipynb\" target=\"_parent\"><img src=\"https://colab.research.google.com/assets/colab-badge.svg\" alt=\"Open In Colab\"/></a>"
      ]
    },
    {
      "cell_type": "markdown",
      "source": [
        "# 😝😎🎶 **How to Use <font color = 'red'> Markdown Language**\n",
        "\n",
        "* ## For <font color = 'green'> more syntax</font> of markdown langauge,\n",
        "[Click here.](https://www.markdownguide.org/basic-syntax/#headings)\n"
      ],
      "metadata": {
        "id": "pH3MOa6erwPE"
      }
    },
    {
      "cell_type": "markdown",
      "source": [
        "# NLP_2024\n",
        "\n",
        "# ⛄🐼  **Python Language**\n",
        "\n",
        "## **Learning Python** using **Colab** ([Visit Colab homepage](https://colab.research.google.com/?utm_source=scs-index)) and **Github** ([Visit Github homepage](https://github.com/))\n",
        "\n",
        "### **1. Sign up gitbhub** ([Visit a tutorial on Youtube](https://www.youtube.com/watch?v=c-NikCpec7U))\n",
        "\n",
        "### **2. Sign up Google Colaboratory** (aka. Colab) ([Visit a tutorial on Youtube]([https://www.youtube.com/watch?v=2X_EU18OeYM))\n",
        "\n",
        "### **3. Useful References**\n",
        "- Exercises 200 파이썬200제 by 장삼용.정보문화사 2017\n",
        "-[Jump to Python](https://colab.research.google.com/corgiredirector?site=https%3A%2F%2Fwikidocs.net%2Fbook%2F1)\n",
        "-[wikidocs for nltk](https://colab.research.google.com/corgiredirector?site=https%3A%2F%2Fwikidocs.net%2F21667)\n",
        "\n",
        "### **4. Markdown Language**\n",
        "- [Emoji](https://colab.research.google.com/corgiredirector?site=https%3A%2F%2Fgist.github.com%2Frxaviers%2F7360908)\n",
        "-[Markdown syntax](https://colab.research.google.com/corgiredirector?site=https%3A%2F%2Fwww.markdownguide.org%2Fbasic-syntax%2F)\n",
        "\n",
        "### **5. Class Materials**\n",
        "| # | Sessions | Keywords |\n",
        "|:--:|:--:|:--:|\n",
        "| 1 | Markdown Language 😊  | [syntax](https://github.com/ms624atyale/NLP_2024/blob/main/0_MarkDown4README_md.ipynb) |\n",
        "\n",
        "### **6. HNU Information**\n",
        "- HNU is Christian university.\n",
        "- There is Sungji Hall at Hannam University.\n",
        "- [HNU MAP](https://www.hannam.ac.kr/data/building.html)\n",
        "\n",
        "\n",
        "\n"
      ],
      "metadata": {
        "id": "LgZ6n9EBx0Tl"
      }
    }
  ]
}

# ⛄🐼  **Python Language**

## **Learning Python** using **Colab** ([Visit Colab homepage](https://colab.research.google.com/?utm_source=scs-index)) and **Github** ([Visit Github homepage](https://github.com/))

### **1. Sign up gitbhub** ([Visit a tutorial on Youtube](https://www.youtube.com/watch?v=c-NikCpec7U))

### **2. Sign up Google Colaboratory** (aka. Colab) ([Visit a tutorial on Youtube]([https://www.youtube.com/watch?v=2X_EU18OeYM))

### **3. Useful References**
- Exercises 200 파이썬200제 by 장삼용.정보문화사 2017
-[Jump to Python](https://colab.research.google.com/corgiredirector?site=https%3A%2F%2Fwikidocs.net%2Fbook%2F1)
-[wikidocs for nltk](https://colab.research.google.com/corgiredirector?site=https%3A%2F%2Fwikidocs.net%2F21667)

### **4. Markdown Language**
- [Emoji](https://colab.research.google.com/corgiredirector?site=https%3A%2F%2Fgist.github.com%2Frxaviers%2F7360908)
-[Markdown syntax](https://colab.research.google.com/corgiredirector?site=https%3A%2F%2Fwww.markdownguide.org%2Fbasic-syntax%2F)

### **5. Class Materials**
| # | Sessions | Keywords |
|:--:|:--:|:--:|
| 1 | Markdown Language 😊  | [syntax](https://github.com/ms624atyale/NLP_2024/blob/main/0_MarkDown4README_md.ipynb) |
>
| # | Sessions | Keywords |
|:--:|:--:|:--:|
| 2 | Markdown Language 😴| [font size, font color, bullet point,  syntax](https://github.com/ms624atyale/NLP_2024/blob/main/0_MarkDown4README_md.ipynb) |
|3| Generating code cells💻 | codeline, run(excute)|


### **6. HNU Information**
- HNU is Christian university.
- There is Sungji Hall at Hannam University.
- [HNU MAP](https://www.hannam.ac.kr/data/building.html)
